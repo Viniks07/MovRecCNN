{
 "cells": [
  {
   "cell_type": "code",
   "execution_count": 1,
   "id": "40801ff0",
   "metadata": {},
   "outputs": [],
   "source": [
    "import sys;sys.path.append(\"../\")\n",
    "import cv2\n",
    "import pandas as pd\n",
    "import numpy as np\n",
    "import matplotlib.pyplot as plt\n",
    "import os\n",
    "import time\n",
    "from src import functions as f\n",
    "from PIL import Image"
   ]
  },
  {
   "cell_type": "markdown",
   "id": "0a6db047",
   "metadata": {},
   "source": [
    "<img src=\"https://i.imgur.com/4FXouci.png\" alt=\"Imagem Centralizada\" \n",
    "     style=\"display: block; margin: auto; width: 1200; height: 450px; border: 1px solid #ddd;\"/>"
   ]
  }
 ],
 "metadata": {
  "kernelspec": {
   "display_name": "Python 3",
   "language": "python",
   "name": "python3"
  },
  "language_info": {
   "codemirror_mode": {
    "name": "ipython",
    "version": 3
   },
   "file_extension": ".py",
   "mimetype": "text/x-python",
   "name": "python",
   "nbconvert_exporter": "python",
   "pygments_lexer": "ipython3",
   "version": "3.13.5"
  }
 },
 "nbformat": 4,
 "nbformat_minor": 5
}
