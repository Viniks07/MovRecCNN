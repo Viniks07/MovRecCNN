{
 "cells": [
  {
   "cell_type": "markdown",
   "id": "1b55143d",
   "metadata": {},
   "source": [
    "<p style=\"color: gray; \n",
    "          text-align: center;\n",
    "          font-size: 24px;\">\n",
    "Inicialização de Bibliotecas, Pastas e Foco da Camera</p>"
   ]
  },
  {
   "cell_type": "code",
   "execution_count": 1,
   "id": "d25bc0b1",
   "metadata": {},
   "outputs": [
    {
     "name": "stdout",
     "output_type": "stream",
     "text": [
      "Exposição: -6.0\n",
      "Foco: -1.0\n"
     ]
    }
   ],
   "source": [
    "import cv2\n",
    "import numpy as np\n",
    "import os\n",
    "import time\n",
    "import functions as f\n",
    "from collections import deque\n",
    "\n",
    "os.makedirs(\"../data\", exist_ok=True)\n",
    "os.makedirs(\"../data/inputs\", exist_ok=True)\n",
    "\n",
    "for i in range(6):\n",
    "    os.makedirs(f\"../data/inputs/{i}\", exist_ok=True)\n",
    "\n",
    "cap = cv2.VideoCapture(0)\n",
    "\n",
    "cap.set(cv2.CAP_PROP_AUTO_EXPOSURE, 0.25)\n",
    "cap.set(cv2.CAP_PROP_EXPOSURE, -1)\n",
    "\n",
    "cap.set(cv2.CAP_PROP_AUTOFOCUS, 0)\n",
    "cap.set(cv2.CAP_PROP_FOCUS, 10)\n",
    "\n",
    "print(\"Exposição:\", cap.get(cv2.CAP_PROP_EXPOSURE))\n",
    "print(\"Foco:\", cap.get(cv2.CAP_PROP_FOCUS))"
   ]
  },
  {
   "cell_type": "markdown",
   "id": "d1d55bdd",
   "metadata": {},
   "source": [
    "<p style=\"color: gray; \n",
    "          text-align: center;\n",
    "          font-size: 24px;\">\n",
    "Bloco Principal</p>"
   ]
  },
  {
   "cell_type": "code",
   "execution_count": 2,
   "id": "b66ef696",
   "metadata": {},
   "outputs": [],
   "source": [
    "cap = cv2.VideoCapture(0)\n",
    "bbox = False\n",
    "grid = True\n",
    "division = 16\n",
    "\n",
    "while True:\n",
    "    ret,frame_original = cap.read()\n",
    "    frame_original = f.mirroring(frame_original)\n",
    "    frame = frame_original.copy()\n",
    "    frame = f.gray_scale(frame)\n",
    "    frame = f.background_subtraction(cam_frame=frame,start_time=3,limiar=15)\n",
    "    frame,vector = f.down_sampling(frame,division=division)\n",
    "    frame = f.binarization(frame,limiar=5)\n",
    "    vector = f.binarization(vector,limiar=5)\n",
    "    original_view = frame_original.copy()\n",
    "    _,vector_positioning = f.bounding_box(frame,original_view,division=division)\n",
    "    \n",
    "    if cv2.waitKey(1) & 0xFF == ord('q'):\n",
    "        break\n",
    "    \n",
    "    elif cv2.waitKey(1) & 0xFF == ord('1'):\n",
    "        f.background_subtraction.background = f.gray_scale(frame_original.copy())\n",
    "        frame_original = np.full_like(frame_original,255)\n",
    "\n",
    "\n",
    "    if not ret:\n",
    "        break\n",
    "\n",
    "    vector = vector[vector_positioning[0]:vector_positioning[1], vector_positioning[2]:vector_positioning[3]]\n",
    "\n",
    "\n",
    "    cv2.imshow('Original',original_view)\n",
    "    cv2.imshow('Visualizer',frame)\n",
    "\n",
    "\n",
    "cap.release()\n",
    "cv2.destroyAllWindows()"
   ]
  },
  {
   "cell_type": "markdown",
   "id": "c2cc99d8",
   "metadata": {},
   "source": [
    "<p style=\"color: gray; \n",
    "          text-align: center;\n",
    "          font-size: 24px;\">\n",
    "Bloco de Trabalho</p>"
   ]
  },
  {
   "cell_type": "code",
   "execution_count": 3,
   "id": "0fbd66aa",
   "metadata": {},
   "outputs": [],
   "source": [
    "cap = cv2.VideoCapture(0)\n",
    "bbox = False\n",
    "grid = True\n",
    "division = 16\n",
    "\n",
    "while True:\n",
    "    ret,frame_original = cap.read()\n",
    "    frame_original = f.mirroring(frame_original)\n",
    "    frame = frame_original.copy()\n",
    "    frame = f.gray_scale(frame)\n",
    "    frame = f.background_subtraction(cam_frame=frame,start_time=3,limiar=15)\n",
    "    frame,vector = f.down_sampling(frame,division=division)\n",
    "    frame = f.binarization(frame,limiar=5)\n",
    "    vector = f.binarization(vector,limiar=5)\n",
    "    original_view = frame_original.copy()\n",
    "    original_view,vector_positioning = f.bounding_box(frame,original_view,division=division)\n",
    "    \n",
    "    if cv2.waitKey(1) & 0xFF == ord('q'):\n",
    "        break\n",
    "    \n",
    "    elif cv2.waitKey(1) & 0xFF == ord('1'):\n",
    "        f.background_subtraction.background = f.gray_scale(frame_original.copy())\n",
    "        frame_original = np.full_like(frame_original,255)\n",
    "\n",
    "\n",
    "    if not ret:\n",
    "        break\n",
    "\n",
    "    vector = vector[vector_positioning[0]:vector_positioning[1], vector_positioning[2]:vector_positioning[3]]\n",
    "\n",
    "\n",
    "    cv2.imshow('Original',original_view)\n",
    "    cv2.imshow('Visualizer',frame)\n",
    "\n",
    "\n",
    "cap.release()\n",
    "cv2.destroyAllWindows()"
   ]
  },
  {
   "cell_type": "markdown",
   "id": "8508f7f5",
   "metadata": {},
   "source": [
    "<p style=\"color: gray; \n",
    "          text-align: center;\n",
    "          font-size: 24px;\">\n",
    "Bloco Teste wave.gif\n",
    "</p>"
   ]
  },
  {
   "cell_type": "code",
   "execution_count": 4,
   "id": "f30f5ae5",
   "metadata": {},
   "outputs": [],
   "source": [
    "while True:\n",
    "    cam = cv2.VideoCapture(r'../readme_media/wave.gif')\n",
    "    while True:\n",
    "        ret,frame = cam.read()\n",
    "        \n",
    "        if cv2.waitKey(66) & 0xFF == ord('q'):\n",
    "            break\n",
    "        if not ret:\n",
    "            break\n",
    "        frame_vizualizer = f.grid(frame)\n",
    "        cv2.imshow('Vid',frame_vizualizer)\n",
    "    if cv2.waitKey(500) & 0xFF == ord('q'):\n",
    "        break\n",
    "    \n",
    "cam.release()\n",
    "cv2.destroyAllWindows()"
   ]
  }
 ],
 "metadata": {
  "kernelspec": {
   "display_name": "Python 3",
   "language": "python",
   "name": "python3"
  },
  "language_info": {
   "codemirror_mode": {
    "name": "ipython",
    "version": 3
   },
   "file_extension": ".py",
   "mimetype": "text/x-python",
   "name": "python",
   "nbconvert_exporter": "python",
   "pygments_lexer": "ipython3",
   "version": "3.13.5"
  }
 },
 "nbformat": 4,
 "nbformat_minor": 5
}
