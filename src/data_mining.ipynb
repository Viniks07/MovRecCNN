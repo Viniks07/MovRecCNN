{
 "cells": [
  {
   "cell_type": "markdown",
   "id": "1b55143d",
   "metadata": {},
   "source": [
    "<p style=\"color: gray; \n",
    "          text-align: center;\n",
    "          font-size: 24px;\">\n",
    "Inicialização de Bibliotecas, Pastas e Foco da Camera</p>"
   ]
  },
  {
   "cell_type": "code",
   "execution_count": null,
   "id": "d25bc0b1",
   "metadata": {},
   "outputs": [],
   "source": [
    "import cv2\n",
    "import numpy as np\n",
    "import os\n",
    "import time\n",
    "import functions as f\n",
    "from collections import deque\n",
    "\n",
    "os.makedirs(\"../data\", exist_ok=True)\n",
    "os.makedirs(\"../data/inputs\", exist_ok=True)\n",
    "\n",
    "for i in range(6):\n",
    "    os.makedirs(f\"../data/inputs/{i}\", exist_ok=True)\n",
    "\n",
    "cap = cv2.VideoCapture(0)\n",
    "\n",
    "cap.set(cv2.CAP_PROP_AUTO_EXPOSURE, 0.25)\n",
    "cap.set(cv2.CAP_PROP_EXPOSURE, -1)\n",
    "\n",
    "cap.set(cv2.CAP_PROP_AUTOFOCUS, 0)\n",
    "cap.set(cv2.CAP_PROP_FOCUS, 10)\n",
    "\n",
    "print(\"Exposição:\", cap.get(cv2.CAP_PROP_EXPOSURE))\n",
    "print(\"Foco:\", cap.get(cv2.CAP_PROP_FOCUS))"
   ]
  },
  {
   "cell_type": "markdown",
   "id": "d1d55bdd",
   "metadata": {},
   "source": [
    "<p style=\"color: gray; \n",
    "          text-align: center;\n",
    "          font-size: 24px;\">\n",
    "Bloco Principal</p>"
   ]
  },
  {
   "cell_type": "code",
   "execution_count": null,
   "id": "b66ef696",
   "metadata": {},
   "outputs": [],
   "source": [
    "cap = cv2.VideoCapture('../data/.bin/sample.mp4')\n",
    "bbox = False\n",
    "grid = True\n",
    "division = 16\n",
    "\n",
    "while True:\n",
    "\n",
    "    ret,frame_original = cap.read()\n",
    "\n",
    "    if not ret:\n",
    "        break\n",
    "\n",
    "    # frame_original = f.mirroring(frame_original)\n",
    "    frame = frame_original.copy()\n",
    "    frame = f.gray_scale(frame)\n",
    "    frame = f.background_subtraction(cam_frame=frame,start_time=3,limiar=15)\n",
    "    sample,frame = f.down_sampling(frame,division=division)\n",
    "    frame = f.binarization(frame,limiar=5)\n",
    "    sample = f.binarization(sample,limiar=5)\n",
    "    bbox_points,frame_original = f.bounding_box(frame,frame_vizualizer=frame_original,division=division)\n",
    "\n",
    "    vector = f.vectorize(sample, bbox_points=bbox_points, division=division)\n",
    "\n",
    "    print(np.sum(vector))\n",
    "    if cv2.waitKey(1) & 0xFF == ord('q'):\n",
    "        break\n",
    "    \n",
    "    elif cv2.waitKey(1) & 0xFF == ord('1'):\n",
    "        f.background_subtraction.background = f.gray_scale(frame_original.copy())\n",
    "        frame_original = np.full_like(frame_original,255)\n",
    "        print('Background reset')\n",
    "\n",
    "\n",
    "    cv2.imshow('Down Sampled', sample)\n",
    "    cv2.imshow('Visualizer',frame)\n",
    "    cv2.imshow('Original',frame_original)\n",
    "    \n",
    "\n",
    "\n",
    "cap.release()\n",
    "cv2.destroyAllWindows()"
   ]
  },
  {
   "cell_type": "markdown",
   "id": "8cafbd63",
   "metadata": {},
   "source": [
    "<p style=\"color: gray; \n",
    "          text-align: center;\n",
    "          font-size: 24px;\">\n",
    "Bloco Video REC\n",
    "</p>"
   ]
  },
  {
   "cell_type": "code",
   "execution_count": null,
   "id": "523473e4",
   "metadata": {},
   "outputs": [],
   "source": [
    "gravador = cv2.VideoWriter('../data/.bin/asd.avi',fourcc=cv2.VideoWriter_fourcc(*'XVID'),fps=30qqqqqqqq,frameSize=(640,480))\n",
    "cam = cv2.VideoCapture(0)\n",
    "rec = False\n",
    "while True:\n",
    "    ret,original_frame = cam.read()\n",
    "    original_frame = f.mirroring(original_frame)\n",
    "\n",
    "    if not ret:\n",
    "        break\n",
    "    \n",
    "    frame = original_frame.copy()\n",
    "    frame = f.gray_scale(frame)\n",
    "    frame = f.background_subtraction(cam_frame=frame,start_time=3,limiar=15)\n",
    "    vector,frame = f.down_sampling(frame,division=16)\n",
    "    frame = f.binarization(frame,limiar=5)\n",
    "    vector = f.binarization(vector,limiar=5)\n",
    "    \n",
    "    if cv2.waitKey(1) & 0xFF == ord('q'):\n",
    "        break\n",
    "    elif cv2.waitKey(1) & 0xFF == ord('1'):\n",
    "        f.background_subtraction.background = f.gray_scale(original_frame.copy())\n",
    "        frame_original = np.full_like(original_frame,255)\n",
    "    elif cv2.waitKey(1) & 0xFF == ord('2'):\n",
    "        rec = True\n",
    "        print('gravandooo...')\n",
    "\n",
    "    if rec:\n",
    "        frame = np.stack([frame]*3, axis=-1)\n",
    "        gravador.write(frame)\n",
    "\n",
    "\n",
    "    cv2.imshow('Original',original_frame)\n",
    "    cv2.imshow('Visualizer',frame)\n",
    "\n",
    "cam.release()\n",
    "gravador.release()\n",
    "cv2.destroyAllWindows()"
   ]
  }
 ],
 "metadata": {
  "kernelspec": {
   "display_name": "Python 3",
   "language": "python",
   "name": "python3"
  },
  "language_info": {
   "codemirror_mode": {
    "name": "ipython",
    "version": 3
   },
   "file_extension": ".py",
   "mimetype": "text/x-python",
   "name": "python",
   "nbconvert_exporter": "python",
   "pygments_lexer": "ipython3",
   "version": "3.13.5"
  }
 },
 "nbformat": 4,
 "nbformat_minor": 5
}
