{
 "cells": [
  {
   "cell_type": "markdown",
   "id": "1b55143d",
   "metadata": {},
   "source": [
    "<p style=\"color: gray; \n",
    "          text-align: center;\n",
    "          font-size: 24px;\">\n",
    "Inicialização de Bibliotecas</p>"
   ]
  },
  {
   "cell_type": "code",
   "execution_count": 1,
   "id": "d25bc0b1",
   "metadata": {},
   "outputs": [
    {
     "name": "stdout",
     "output_type": "stream",
     "text": [
      "Foco Ajustado\n"
     ]
    }
   ],
   "source": [
    "import cv2\n",
    "import numpy as np\n",
    "import os\n",
    "from src import data_processing as dp\n",
    "\n",
    "os.makedirs(\"../data\", exist_ok=True)\n",
    "os.makedirs(\"../data/raw\", exist_ok=True)\n",
    "\n",
    "cap = cv2.VideoCapture(0)\n",
    "\n",
    "cap.set(cv2.CAP_PROP_AUTO_EXPOSURE, 0.25)\n",
    "cap.set(cv2.CAP_PROP_EXPOSURE, -1)\n",
    "\n",
    "cap.set(cv2.CAP_PROP_AUTOFOCUS, 0)\n",
    "cap.set(cv2.CAP_PROP_FOCUS, 10)\n",
    "\n",
    "print(\"Foco Ajustado\")"
   ]
  },
  {
   "cell_type": "code",
   "execution_count": 2,
   "id": "b66ef696",
   "metadata": {},
   "outputs": [],
   "source": [
    "def positioning(frame,frame2): \n",
    "    if np.sum(frame[:160,:160]) > 0:\n",
    "        cv2.putText(frame2,                      \n",
    "            'Diag. Esq',           \n",
    "            (300, 470),                   \n",
    "            cv2.FONT_HERSHEY_SIMPLEX,   \n",
    "            1,                         \n",
    "            (0, 0, 255),                \n",
    "            2,                          \n",
    "            cv2.LINE_AA)    \n",
    "    elif np.sum(frame[:160,480:]):\n",
    "        cv2.putText(frame2,                      \n",
    "                'Diag. Dir',           \n",
    "                (300, 470),                   \n",
    "                cv2.FONT_HERSHEY_SIMPLEX,   \n",
    "                1,                         \n",
    "                (0, 0, 255),                \n",
    "                2,                          \n",
    "                cv2.LINE_AA)    \n",
    "    elif np.sum(frame[:160,160:480]) > 0:\n",
    "        cv2.putText(frame2,                      \n",
    "            'Cima',           \n",
    "            (300, 470),                   \n",
    "            cv2.FONT_HERSHEY_SIMPLEX,   \n",
    "            1,                         \n",
    "            (0, 0, 255),                \n",
    "            2,                          \n",
    "            cv2.LINE_AA)   \n",
    "    elif np.sum(frame[160:320,:160]) > 0:\n",
    "        cv2.putText(frame2,                      \n",
    "                'Esquerda',           \n",
    "                (300, 470),                   \n",
    "                cv2.FONT_HERSHEY_SIMPLEX,   \n",
    "                1,                         \n",
    "                (0, 0, 255),                \n",
    "                2,                          \n",
    "                cv2.LINE_AA)    \n",
    "    elif np.sum(frame[160:320,480:]) > 0:\n",
    "        cv2.putText(frame2,                      \n",
    "                'Direita',           \n",
    "                (300, 470),                   \n",
    "                cv2.FONT_HERSHEY_SIMPLEX,   \n",
    "                1,                         \n",
    "                (0, 0, 255),                \n",
    "                2,                          \n",
    "                cv2.LINE_AA)\n"
   ]
  },
  {
   "cell_type": "code",
   "execution_count": 4,
   "id": "0fbd66aa",
   "metadata": {},
   "outputs": [
    {
     "name": "stdout",
     "output_type": "stream",
     "text": [
      "Fundo Capturado!\n"
     ]
    }
   ],
   "source": [
    "cap = cv2.VideoCapture(0)\n",
    "\n",
    "division = 16\n",
    "\n",
    "while True:\n",
    "\n",
    "    ret,frame_original = cap.read()\n",
    "\n",
    "    if not ret:\n",
    "        break\n",
    "\n",
    "    frame_original = dp.mirroring(frame_original)\n",
    "    frame = frame_original.copy()\n",
    "    frame = dp.gray_scale(frame)\n",
    "    frame = dp.background_subtraction(cam_frame=frame,start_time=0.1,limiar=30)\n",
    "    input,frame = dp.down_sampling(frame,division=division)\n",
    "    frame = dp.binarization(frame,limiar=5)\n",
    "    input = dp.binarization(input,limiar=5)\n",
    "    original_view = frame_original.copy()\n",
    "    bbox_points,original_view = dp.bounding_box(frame,frame_vizualizer=frame_original,division=division)\n",
    "    input = dp.centralize(input, bbox_points=bbox_points)\n",
    "    input = dp.dilate(input,kernel=np.ones(shape=(3,3)))\n",
    "    \n",
    "    positioning(frame,original_view)\n",
    "\n",
    "\n",
    "    if cv2.waitKey(1) & 0xFF == ord('q'):\n",
    "        break\n",
    "    \n",
    "    elif cv2.waitKey(1) & 0xFF == ord('1'):\n",
    "        print('Fundo Capturado!')\n",
    "        dp.background_subtraction.background = dp.gray_scale(frame_original.copy())\n",
    "        frame_original = np.full_like(frame_original,255)\n",
    "\n",
    "    if not ret:\n",
    "        break\n",
    "\n",
    "    cv2.imshow('Binarizado',frame)\n",
    "    cv2.imshow('Original',original_view)\n",
    "    cv2.imshow('sample',input)\n",
    "\n",
    "\n",
    "cap.release()\n",
    "cv2.destroyAllWindows()"
   ]
  }
 ],
 "metadata": {
  "kernelspec": {
   "display_name": "Python 3",
   "language": "python",
   "name": "python3"
  },
  "language_info": {
   "codemirror_mode": {
    "name": "ipython",
    "version": 3
   },
   "file_extension": ".py",
   "mimetype": "text/x-python",
   "name": "python",
   "nbconvert_exporter": "python",
   "pygments_lexer": "ipython3",
   "version": "3.13.5"
  }
 },
 "nbformat": 4,
 "nbformat_minor": 5
}
