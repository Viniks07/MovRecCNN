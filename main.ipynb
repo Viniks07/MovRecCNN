{
 "cells": [
  {
   "cell_type": "markdown",
   "id": "1b55143d",
   "metadata": {},
   "source": [
    "<p style=\"color: gray; \n",
    "          text-align: center;\n",
    "          font-size: 24px;\">\n",
    "Inicialização de Bibliotecas</p>"
   ]
  },
  {
   "cell_type": "code",
   "execution_count": 2,
   "id": "d25bc0b1",
   "metadata": {},
   "outputs": [],
   "source": [
    "import cv2\n",
    "import pandas as pd\n",
    "import numpy as np\n",
    "import matplotlib.pyplot as plt\n",
    "import os\n",
    "import time\n",
    "from src import data_processing as dp\n",
    "from collections import deque"
   ]
  },
  {
   "cell_type": "markdown",
   "id": "5c5a67cf",
   "metadata": {},
   "source": [
    "<p style=\"color: gray; \n",
    "          text-align: center;\n",
    "          font-size: 24px;\">\n",
    "Ajuste Foco Camera</p>"
   ]
  },
  {
   "cell_type": "code",
   "execution_count": 2,
   "id": "0dd04b26",
   "metadata": {},
   "outputs": [
    {
     "name": "stdout",
     "output_type": "stream",
     "text": [
      "Exposição: -6.0\n",
      "Foco: -1.0\n"
     ]
    }
   ],
   "source": [
    "cap = cv2.VideoCapture(0)\n",
    "\n",
    "cap.set(cv2.CAP_PROP_AUTO_EXPOSURE, 0.25)\n",
    "cap.set(cv2.CAP_PROP_EXPOSURE, -1)\n",
    "\n",
    "cap.set(cv2.CAP_PROP_AUTOFOCUS, 0)\n",
    "cap.set(cv2.CAP_PROP_FOCUS, 10)\n",
    "\n",
    "print(\"Exposição:\", cap.get(cv2.CAP_PROP_EXPOSURE))\n",
    "print(\"Foco:\", cap.get(cv2.CAP_PROP_FOCUS))\n"
   ]
  },
  {
   "cell_type": "code",
   "execution_count": 3,
   "id": "b66ef696",
   "metadata": {},
   "outputs": [],
   "source": [
    "def positioning(frame,frame2): \n",
    "    if np.sum(frame[:160,:160]) > 0:\n",
    "        cv2.putText(frame2,                      \n",
    "            'Diag. Esq',           \n",
    "            (300, 470),                   \n",
    "            cv2.FONT_HERSHEY_SIMPLEX,   \n",
    "            1,                         \n",
    "            (0, 0, 255),                \n",
    "            2,                          \n",
    "            cv2.LINE_AA)    \n",
    "    elif np.sum(frame[:160,480:]):\n",
    "        cv2.putText(frame2,                      \n",
    "                'Diag. Dir',           \n",
    "                (300, 470),                   \n",
    "                cv2.FONT_HERSHEY_SIMPLEX,   \n",
    "                1,                         \n",
    "                (0, 0, 255),                \n",
    "                2,                          \n",
    "                cv2.LINE_AA)    \n",
    "    elif np.sum(frame[:160,160:480]) > 0:\n",
    "        cv2.putText(frame2,                      \n",
    "            'Cima',           \n",
    "            (300, 470),                   \n",
    "            cv2.FONT_HERSHEY_SIMPLEX,   \n",
    "            1,                         \n",
    "            (0, 0, 255),                \n",
    "            2,                          \n",
    "            cv2.LINE_AA)   \n",
    "    elif np.sum(frame[160:320,:160]) > 0:\n",
    "        cv2.putText(frame2,                      \n",
    "                'Esquerda',           \n",
    "                (300, 470),                   \n",
    "                cv2.FONT_HERSHEY_SIMPLEX,   \n",
    "                1,                         \n",
    "                (0, 0, 255),                \n",
    "                2,                          \n",
    "                cv2.LINE_AA)    \n",
    "    elif np.sum(frame[160:320,480:]) > 0:\n",
    "        cv2.putText(frame2,                      \n",
    "                'Direita',           \n",
    "                (300, 470),                   \n",
    "                cv2.FONT_HERSHEY_SIMPLEX,   \n",
    "                1,                         \n",
    "                (0, 0, 255),                \n",
    "                2,                          \n",
    "                cv2.LINE_AA)\n"
   ]
  },
  {
   "cell_type": "code",
   "execution_count": 5,
   "id": "0fbd66aa",
   "metadata": {},
   "outputs": [],
   "source": [
    "cap = cv2.VideoCapture(0)\n",
    "\n",
    "division = 16\n",
    "\n",
    "while True:\n",
    "    ret,frame_original = cap.read()\n",
    "    frame_original = f.mirroring(frame_original)\n",
    "    frame = frame_original.copy()\n",
    "    frame = f.gray_scale(frame)\n",
    "    frame = f.background_subtraction(cam_frame=frame,start_time=5,limiar=15)\n",
    "    frame,vec = f.down_sampling(frame,division=division)\n",
    "    frame = f.binarization(frame,limiar=5)\n",
    "    vec = f.binarization(vec,limiar=5)\n",
    "    original_view = frame_original.copy()\n",
    "    _,vec_positioning = f.bounding_box(frame,original_view,division=division)\n",
    "    positioning(frame,original_view)\n",
    "\n",
    "\n",
    "    if cv2.waitKey(1) & 0xFF == ord('q'):\n",
    "        break\n",
    "    \n",
    "    elif cv2.waitKey(1) & 0xFF == ord('1'):\n",
    "        f.background_subtraction.background = f.gray_scale(frame_original.copy())\n",
    "        frame_original = np.full_like(frame_original,255)\n",
    "\n",
    "    elif cv2.waitKey(1) & 0xFF == ord('2'):\n",
    "        tensor = np.array(vec)\n",
    "        np.save(r'readme_media\\tensor.npy', tensor)\n",
    "        break\n",
    "\n",
    "    if not ret:\n",
    "        break\n",
    "\n",
    "    # vec = vec[vec_positioning[0]:vec_positioning[1], vec_positioning[2]:vec_positioning[3]]\n",
    "\n",
    "    cv2.imshow('Original',original_view)\n",
    "    cv2.imshow('Visualizer',frame)\n",
    "\n",
    "\n",
    "cap.release()\n",
    "cv2.destroyAllWindows()"
   ]
  },
  {
   "cell_type": "code",
   "execution_count": 5,
   "id": "f30f5ae5",
   "metadata": {},
   "outputs": [],
   "source": [
    "while True:\n",
    "    cam = cv2.VideoCapture(r'readme_media\\wave.gif')\n",
    "    while True:\n",
    "        ret,frame = cam.read()\n",
    "        \n",
    "        if cv2.waitKey(125) & 0xFF == ord('q'):\n",
    "            break\n",
    "        if not ret:\n",
    "            break\n",
    "        frame_vizualizer = f.grid(frame)\n",
    "        cv2.imshow('Vid',frame_vizualizer)\n",
    "    if cv2.waitKey(500) & 0xFF == ord('q'):\n",
    "        break\n",
    "cam.release()\n",
    "cv2.destroyAllWindows()"
   ]
  },
  {
   "cell_type": "code",
   "execution_count": 25,
   "id": "002a54b9",
   "metadata": {},
   "outputs": [],
   "source": [
    "# Load original image\n",
    "img_original = cv2.imread('C:/Users/Vinic/Desktop/AI-Guide-5-Quality-Inspection-Graphics-1536x864.webp')\n",
    "complete = dp.gray_scale(img_original)\n",
    "\n",
    "complete[complete>230] = 0\n",
    "# img_left = img_original[:,2:img_original.shape[1]//2+2].copy()\n",
    "# img_right = img_original[:,img_original.shape[1]//2-2:-2].copy()\n",
    "\n",
    "# print(img_right.shape)\n",
    "\n",
    "\n",
    "# complete = np.concatenate((img_right,img_left),axis=1)\n",
    "\n",
    "# print(complete.shape)\n",
    "\n",
    "cv2.imshow('asd',complete)\n",
    "cv2.waitKey(0)\n",
    "cv2.destroyAllWindows()\n",
    "\n",
    "# cv2.imwrite(filename='media/image/gray_matrix.png',img=complete)"
   ]
  }
 ],
 "metadata": {
  "kernelspec": {
   "display_name": "Python 3",
   "language": "python",
   "name": "python3"
  },
  "language_info": {
   "codemirror_mode": {
    "name": "ipython",
    "version": 3
   },
   "file_extension": ".py",
   "mimetype": "text/x-python",
   "name": "python",
   "nbconvert_exporter": "python",
   "pygments_lexer": "ipython3",
   "version": "3.13.5"
  }
 },
 "nbformat": 4,
 "nbformat_minor": 5
}
